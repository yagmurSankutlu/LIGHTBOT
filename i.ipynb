{
 "cells": [
  {
   "cell_type": "code",
   "execution_count": 1,
   "metadata": {},
   "outputs": [
    {
     "ename": "NameError",
     "evalue": "name 'hex_digit' is not defined",
     "output_type": "error",
     "traceback": [
      "\u001b[0;31m---------------------------------------------------------------------------\u001b[0m",
      "\u001b[0;31mNameError\u001b[0m                                 Traceback (most recent call last)",
      "Cell \u001b[0;32mIn[1], line 3\u001b[0m\n\u001b[1;32m      1\u001b[0m pi \u001b[38;5;241m=\u001b[39m \u001b[38;5;28mstr\u001b[39m()\n\u001b[1;32m      2\u001b[0m \u001b[38;5;28;01mfor\u001b[39;00m i \u001b[38;5;129;01min\u001b[39;00m \u001b[38;5;28mrange\u001b[39m(\u001b[38;5;241m16000\u001b[39m):\n\u001b[0;32m----> 3\u001b[0m     pi \u001b[38;5;241m=\u001b[39m pi \u001b[38;5;241m+\u001b[39m hex_digit(i)[\u001b[38;5;241m2\u001b[39m]\n\u001b[1;32m      5\u001b[0m \u001b[38;5;28;01mwith\u001b[39;00m \u001b[38;5;28mopen\u001b[39m(\u001b[38;5;124m\"\u001b[39m\u001b[38;5;124mpi_hex_16000.txt\u001b[39m\u001b[38;5;124m\"\u001b[39m, \u001b[38;5;124m\"\u001b[39m\u001b[38;5;124mw\u001b[39m\u001b[38;5;124m\"\u001b[39m) \u001b[38;5;28;01mas\u001b[39;00m file:\n\u001b[1;32m      6\u001b[0m     file\u001b[38;5;241m.\u001b[39mwrite(pi)\n",
      "\u001b[0;31mNameError\u001b[0m: name 'hex_digit' is not defined"
     ]
    }
   ],
   "source": [
    "pi = str()\n",
    "for i in range(16000):\n",
    "    pi = pi + hex_digit(i)[2]\n",
    "\n",
    "with open(\"pi_hex_16000.txt\", \"w\") as file:\n",
    "    file.write(pi)"
   ]
  },
  {
   "cell_type": "code",
   "execution_count": 2,
   "metadata": {},
   "outputs": [],
   "source": [
    "from bbp import compute_pi_hex_digits\n",
    "\n",
    "pi = compute_pi_hex_digits(16000)\n",
    "\n",
    "with open(\"pi_hex_16000.txt\", \"w\") as file:\n",
    "    file.write(pi)\n"
   ]
  }
 ],
 "metadata": {
  "kernelspec": {
   "display_name": "base",
   "language": "python",
   "name": "python3"
  },
  "language_info": {
   "codemirror_mode": {
    "name": "ipython",
    "version": 3
   },
   "file_extension": ".py",
   "mimetype": "text/x-python",
   "name": "python",
   "nbconvert_exporter": "python",
   "pygments_lexer": "ipython3",
   "version": "3.12.7"
  }
 },
 "nbformat": 4,
 "nbformat_minor": 2
}
